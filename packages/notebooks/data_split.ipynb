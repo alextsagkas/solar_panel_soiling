{
 "cells": [
  {
   "cell_type": "code",
   "execution_count": 1,
   "metadata": {},
   "outputs": [],
   "source": [
    "# packages\n",
    "from pathlib import Path\n",
    "import os\n",
    "import random\n",
    "import shutil"
   ]
  },
  {
   "cell_type": "code",
   "execution_count": 7,
   "metadata": {},
   "outputs": [
    {
     "name": "stdout",
     "output_type": "stream",
     "text": [
      "/Users/alextsagkas/Document/Office/solar_panels/data/download/clean <class 'pathlib.PosixPath'>\n"
     ]
    }
   ],
   "source": [
    "root_folder = Path(\"/Users/alextsagkas/Document/Office/solar_panels/data/\")\n",
    "\n",
    "# Subfolders\n",
    "clean_folder = root_folder / \"download\" / \"clean\"\n",
    "soiled_folder = root_folder / \"download\" / \"soiled\"\n",
    "train_clean_folder = root_folder / \"download_train\" / \"clean\"\n",
    "train_soiled_folder = root_folder / \"download_train\" / \"soiled\"\n",
    "test_clean_folder = root_folder / \"download_test\" / \"clean\"\n",
    "test_soiled_folder = root_folder / \"download_test\" / \"soiled\"\n",
    "\n",
    "print(clean_folder, type(clean_folder))"
   ]
  },
  {
   "cell_type": "code",
   "execution_count": 9,
   "metadata": {},
   "outputs": [],
   "source": [
    "# Create necessary folders\n",
    "os.makedirs(train_clean_folder, exist_ok=True)\n",
    "os.makedirs(train_soiled_folder, exist_ok=True)\n",
    "os.makedirs(test_clean_folder, exist_ok=True)\n",
    "os.makedirs(test_soiled_folder, exist_ok=True)"
   ]
  },
  {
   "cell_type": "code",
   "execution_count": 10,
   "metadata": {},
   "outputs": [],
   "source": [
    "# Get the list of clean and soiled image files\n",
    "clean_files = os.listdir(clean_folder)\n",
    "soiled_files = os.listdir(soiled_folder)"
   ]
  },
  {
   "cell_type": "code",
   "execution_count": 11,
   "metadata": {},
   "outputs": [
    {
     "name": "stdout",
     "output_type": "stream",
     "text": [
      "['2023-09-09_02-30-39_85.jpeg', '2023-09-09_02-30-39_150.jpeg']\n"
     ]
    }
   ],
   "source": [
    "# Shuffle the clean and soiled files\n",
    "random.shuffle(clean_files)\n",
    "random.shuffle(soiled_files)\n",
    "\n",
    "print(clean_files[25:27])"
   ]
  },
  {
   "cell_type": "code",
   "execution_count": 12,
   "metadata": {},
   "outputs": [
    {
     "name": "stdout",
     "output_type": "stream",
     "text": [
      "Clean files: 512, Clean test split: 102, Clean train split: 409\n",
      "Soiled files: 487, Soiled test split: 97, Soiled train split: 389\n"
     ]
    }
   ],
   "source": [
    "# Split the data in train and test sets\n",
    "test_percentage = 0.2\n",
    "\n",
    "test_clean_split = int(test_percentage * len(clean_files))\n",
    "test_soiled_split = int(test_percentage * len(soiled_files))\n",
    "\n",
    "train_clean_split = int((1-test_percentage) * len(clean_files))\n",
    "train_soiled_split = int((1-test_percentage) * len(soiled_files))\n",
    "\n",
    "print(f\"Clean files: {len(clean_files)}, Clean test split: {test_clean_split}, Clean train split: {train_clean_split}\")\n",
    "print(f\"Soiled files: {len(soiled_files)}, Soiled test split: {test_soiled_split}, Soiled train split: {train_soiled_split}\")"
   ]
  },
  {
   "cell_type": "code",
   "execution_count": 13,
   "metadata": {},
   "outputs": [],
   "source": [
    "from typing import Union\n",
    "\n",
    "# Move files to test folders\n",
    "def moveFilesTest(\n",
    "    test_split: int,\n",
    "    files_list: list[str],\n",
    "    prev_folder: Path,\n",
    "    next_folder: Path\n",
    ") -> Union[None, str]:\n",
    "    \"\"\"\n",
    "    Move test files from the prev_folder to the next_folder\n",
    "    \"\"\"    \n",
    "    if files_list is None:\n",
    "        return \"Files list is empty\"\n",
    "        \n",
    "    for i in range(test_split):\n",
    "        shutil.move(prev_folder / files_list[i], next_folder)"
   ]
  },
  {
   "cell_type": "code",
   "execution_count": 14,
   "metadata": {},
   "outputs": [],
   "source": [
    "moveFilesTest(\n",
    "    test_clean_split,\n",
    "    clean_files,\n",
    "    clean_folder,\n",
    "    test_clean_folder\n",
    ")\n",
    "\n",
    "moveFilesTest(\n",
    "    test_soiled_split,\n",
    "    soiled_files,\n",
    "    soiled_folder,\n",
    "    test_soiled_folder\n",
    ")"
   ]
  },
  {
   "cell_type": "code",
   "execution_count": 15,
   "metadata": {},
   "outputs": [
    {
     "name": "stdout",
     "output_type": "stream",
     "text": [
      "Test clean files: 102\n",
      "Test soiled files: 97\n"
     ]
    }
   ],
   "source": [
    "# Visualize the results\n",
    "print(f\"Test clean files: {len(os.listdir(test_clean_folder))}\")\n",
    "print(f\"Test soiled files: {len(os.listdir(test_soiled_folder))}\")"
   ]
  },
  {
   "cell_type": "code",
   "execution_count": 16,
   "metadata": {},
   "outputs": [],
   "source": [
    "from typing import Union\n",
    "\n",
    "# Move files to train folders\n",
    "def moveFilesTrain(\n",
    "    files_list: list[str],\n",
    "    prev_folder: Path,\n",
    "    next_folder: Path\n",
    ") -> Union[None, str]:\n",
    "    \"\"\"\n",
    "    Move train files from the prev_folder to the next_folder\n",
    "    \"\"\"    \n",
    "    if files_list is None:\n",
    "        return \"Files list is empty\"\n",
    "\n",
    "    for file in files_list:\n",
    "        shutil.move(prev_folder / file, next_folder)"
   ]
  },
  {
   "cell_type": "code",
   "execution_count": 17,
   "metadata": {},
   "outputs": [],
   "source": [
    "# Get the list of clean and soiled image files\n",
    "clean_files = os.listdir(clean_folder)\n",
    "soiled_files = os.listdir(soiled_folder)\n",
    "\n",
    "moveFilesTrain(\n",
    "    clean_files,\n",
    "    clean_folder,\n",
    "    train_clean_folder\n",
    ")\n",
    "\n",
    "moveFilesTrain(\n",
    "    soiled_files,\n",
    "    soiled_folder,\n",
    "    train_soiled_folder\n",
    ")"
   ]
  },
  {
   "cell_type": "code",
   "execution_count": 19,
   "metadata": {},
   "outputs": [
    {
     "name": "stdout",
     "output_type": "stream",
     "text": [
      "Train clean files: 410\n",
      "Train soiled files: 390\n"
     ]
    }
   ],
   "source": [
    "# Visualize the results\n",
    "print(f\"Train clean files: {len(os.listdir(train_clean_folder))}\")\n",
    "print(f\"Train soiled files: {len(os.listdir(train_soiled_folder))}\")"
   ]
  },
  {
   "cell_type": "code",
   "execution_count": 20,
   "metadata": {},
   "outputs": [],
   "source": [
    "# Remove the empty folders\n",
    "shutil.rmtree(clean_folder)\n",
    "shutil.rmtree(soiled_folder)"
   ]
  }
 ],
 "metadata": {
  "kernelspec": {
   "display_name": "env",
   "language": "python",
   "name": "python3"
  },
  "language_info": {
   "codemirror_mode": {
    "name": "ipython",
    "version": 3
   },
   "file_extension": ".py",
   "mimetype": "text/x-python",
   "name": "python",
   "nbconvert_exporter": "python",
   "pygments_lexer": "ipython3",
   "version": "3.9.18"
  },
  "orig_nbformat": 4
 },
 "nbformat": 4,
 "nbformat_minor": 2
}
