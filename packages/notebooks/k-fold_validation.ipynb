{
 "cells": [
  {
   "cell_type": "code",
   "execution_count": 3,
   "metadata": {},
   "outputs": [
    {
     "name": "stdout",
     "output_type": "stream",
     "text": [
      "Using device: mps\n"
     ]
    }
   ],
   "source": [
    "import torch\n",
    "import torch.backends.mps\n",
    "\n",
    "# Setup device-agnostic code \n",
    "if torch.cuda.is_available():\n",
    "    device = torch.device(\"cuda\") # NVIDIA GPU\n",
    "elif torch.backends.mps.is_available():\n",
    "    device = torch.device(\"mps\") # Apple GPU\n",
    "else:\n",
    "    device = torch.device(\"cpu\") # Defaults to CPU if NVIDIA GPU/Apple GPU aren't available\n",
    "\n",
    "print(f\"Using device: {device}\")"
   ]
  },
  {
   "cell_type": "code",
   "execution_count": 4,
   "metadata": {},
   "outputs": [],
   "source": [
    "from pathlib import Path\n",
    "from torchvision import transforms, datasets\n",
    "\n",
    "image_path = Path(\"/Users/alextsagkas/Document/Office/solar_panels/data/\")\n",
    "\n",
    "train_dir = image_path / \"train\"\n",
    "test_dir = image_path / \"test\"\n",
    "\n",
    "train_data_transform = transforms.Compose([\n",
    "    transforms.Resize(size=(64, 64)),\n",
    "    transforms.RandomHorizontalFlip(p=0.5), \n",
    "    transforms.ToTensor()\n",
    "])\n",
    "\n",
    "train_dataset = datasets.ImageFolder(\n",
    "    root=str(train_dir),\n",
    "    transform=train_data_transform, \n",
    "    target_transform=None\n",
    ")"
   ]
  },
  {
   "cell_type": "code",
   "execution_count": 21,
   "metadata": {},
   "outputs": [
    {
     "data": {
      "text/plain": [
       "{'clean': 0, 'soiled': 1}"
      ]
     },
     "execution_count": 21,
     "metadata": {},
     "output_type": "execute_result"
    }
   ],
   "source": [
    "class_dict = train_dataset.class_to_idx\n",
    "class_dict"
   ]
  },
  {
   "cell_type": "code",
   "execution_count": 5,
   "metadata": {},
   "outputs": [],
   "source": [
    "import torch\n",
    "from torch import nn\n",
    "\n",
    "\n",
    "class TinyVGG(nn.Module):\n",
    "    \"\"\"\n",
    "    Model architecture copying TinyVGG from: \n",
    "    https://poloclub.github.io/cnn-explainer/\n",
    "    \"\"\"\n",
    "\n",
    "    def __init__(self, input_shape: int, hidden_units: int, output_shape: int) -> None:\n",
    "        super().__init__()\n",
    "        self.conv_block_1 = nn.Sequential(\n",
    "            nn.Conv2d(\n",
    "                in_channels=input_shape,\n",
    "                out_channels=hidden_units,\n",
    "                kernel_size=3,\n",
    "                stride=1,\n",
    "                padding=1\n",
    "            ),\n",
    "            nn.ReLU(),\n",
    "            nn.Conv2d(\n",
    "                in_channels=hidden_units,\n",
    "                out_channels=hidden_units,\n",
    "                kernel_size=3,\n",
    "                stride=1,\n",
    "                padding=1\n",
    "            ),\n",
    "            nn.ReLU(),\n",
    "            nn.MaxPool2d(\n",
    "                kernel_size=2,\n",
    "                stride=2\n",
    "            )\n",
    "        )\n",
    "\n",
    "        self.conv_block_2 = nn.Sequential(\n",
    "            nn.Conv2d(hidden_units, hidden_units, kernel_size=3, padding=1),\n",
    "            nn.ReLU(),\n",
    "            nn.Conv2d(hidden_units, hidden_units, kernel_size=3, padding=1),\n",
    "            nn.ReLU(),\n",
    "            nn.MaxPool2d(2)\n",
    "        )\n",
    "\n",
    "        self.classifier = nn.Sequential(\n",
    "            nn.Flatten(),\n",
    "            nn.Linear(\n",
    "                in_features=hidden_units * 16 * 16,\n",
    "                out_features=output_shape\n",
    "            )\n",
    "        )\n",
    "\n",
    "    def forward(self, x: torch.Tensor):\n",
    "        return self.classifier(self.conv_block_2(self.conv_block_1(x)))\n"
   ]
  },
  {
   "cell_type": "code",
   "execution_count": 6,
   "metadata": {},
   "outputs": [
    {
     "data": {
      "text/plain": [
       "==========================================================================================\n",
       "Layer (type:depth-idx)                   Output Shape              Param #\n",
       "==========================================================================================\n",
       "TinyVGG                                  [1, 2]                    --\n",
       "├─Sequential: 1-1                        [1, 32, 32, 32]           --\n",
       "│    └─Conv2d: 2-1                       [1, 32, 64, 64]           896\n",
       "│    └─ReLU: 2-2                         [1, 32, 64, 64]           --\n",
       "│    └─Conv2d: 2-3                       [1, 32, 64, 64]           9,248\n",
       "│    └─ReLU: 2-4                         [1, 32, 64, 64]           --\n",
       "│    └─MaxPool2d: 2-5                    [1, 32, 32, 32]           --\n",
       "├─Sequential: 1-2                        [1, 32, 16, 16]           --\n",
       "│    └─Conv2d: 2-6                       [1, 32, 32, 32]           9,248\n",
       "│    └─ReLU: 2-7                         [1, 32, 32, 32]           --\n",
       "│    └─Conv2d: 2-8                       [1, 32, 32, 32]           9,248\n",
       "│    └─ReLU: 2-9                         [1, 32, 32, 32]           --\n",
       "│    └─MaxPool2d: 2-10                   [1, 32, 16, 16]           --\n",
       "├─Sequential: 1-3                        [1, 2]                    --\n",
       "│    └─Flatten: 2-11                     [1, 8192]                 --\n",
       "│    └─Linear: 2-12                      [1, 2]                    16,386\n",
       "==========================================================================================\n",
       "Total params: 45,026\n",
       "Trainable params: 45,026\n",
       "Non-trainable params: 0\n",
       "Total mult-adds (M): 60.51\n",
       "==========================================================================================\n",
       "Input size (MB): 0.05\n",
       "Forward/backward pass size (MB): 2.62\n",
       "Params size (MB): 0.18\n",
       "Estimated Total Size (MB): 2.85\n",
       "=========================================================================================="
      ]
     },
     "execution_count": 6,
     "metadata": {},
     "output_type": "execute_result"
    }
   ],
   "source": [
    "from torchinfo import summary\n",
    "\n",
    "HIDDEN_UNITS = 32\n",
    "\n",
    "model = TinyVGG(\n",
    "    input_shape=3,\n",
    "    hidden_units=HIDDEN_UNITS,\n",
    "    output_shape=2\n",
    ").to(device)\n",
    "\n",
    "img, _ = train_dataset[0]\n",
    "\n",
    "summary(model, input_size=(img.unsqueeze(0).shape))"
   ]
  },
  {
   "cell_type": "code",
   "execution_count": 22,
   "metadata": {},
   "outputs": [],
   "source": [
    "from torch import nn\n",
    "import torch.utils.data\n",
    "from torchmetrics.classification import MulticlassAccuracy, MulticlassPrecision, MulticlassRecall, MulticlassFBetaScore\n",
    "\n",
    "# Define the training function\n",
    "def train(\n",
    "    model: torch.nn.Module,\n",
    "    device: torch.device, \n",
    "    train_loader: torch.utils.data.DataLoader,\n",
    "    loss_fn: torch.nn.Module, \n",
    "    optimizer: torch.optim.Optimizer\n",
    ") -> tuple[float, float, float, float, float]:\n",
    "\n",
    "    model.train()\n",
    "\n",
    "    train_loss, train_acc = 0, 0\n",
    "\n",
    "    # Classification Metrics\n",
    "    accuracy_fn = MulticlassAccuracy(\n",
    "        num_classes=2\n",
    "    ).to(device)\n",
    "    precision_fn = MulticlassPrecision(\n",
    "        num_classes=2\n",
    "    ).to(device)\n",
    "    recall_fn = MulticlassRecall(\n",
    "        num_classes=2\n",
    "    ).to(device)\n",
    "    f_score_fn = MulticlassFBetaScore(\n",
    "        beta=2.0, # count more on recall\n",
    "        num_classes=2\n",
    "    ).to(device)\n",
    "\n",
    "    for data, target in train_loader:\n",
    "        data, target = data.to(device), target.to(device)\n",
    "        output = model(data)\n",
    "\n",
    "        loss = loss_fn(output, target)\n",
    "        train_loss += loss.item()\n",
    "\n",
    "        optimizer.zero_grad()\n",
    "        loss.backward()\n",
    "        optimizer.step()\n",
    "\n",
    "        pred_classs = output.argmax(dim=1)\n",
    "\n",
    "        accuracy_fn.update(pred_classs, target)\n",
    "        precision_fn.update(pred_classs, target)\n",
    "        recall_fn.update(pred_classs, target)\n",
    "        f_score_fn.update(pred_classs, target)\n",
    "\n",
    "    train_loss = train_loss / len(train_loader)\n",
    "\n",
    "    train_acc = accuracy_fn.compute().item()\n",
    "    train_pr = precision_fn.compute().item()\n",
    "    train_rc = recall_fn.compute().item()\n",
    "    train_fscore = f_score_fn.compute().item()\n",
    "\n",
    "    return train_loss, train_acc, train_pr, train_rc, train_fscore"
   ]
  },
  {
   "cell_type": "code",
   "execution_count": 23,
   "metadata": {},
   "outputs": [
    {
     "name": "stdout",
     "output_type": "stream",
     "text": [
      "Fold 1\n",
      "-------\n"
     ]
    },
    {
     "name": "stderr",
     "output_type": "stream",
     "text": [
      " 50%|█████     | 1/2 [00:32<00:32, 32.12s/it]"
     ]
    },
    {
     "name": "stdout",
     "output_type": "stream",
     "text": [
      "Epoch: 1 | train_loss: 0.2159 | train_acc: 0.8960 | train_pr: 0.9057 | train_rc: 0.8960 |train_fscore: 0.8977 |\n"
     ]
    },
    {
     "name": "stderr",
     "output_type": "stream",
     "text": [
      "100%|██████████| 2/2 [01:01<00:00, 30.83s/it]"
     ]
    },
    {
     "name": "stdout",
     "output_type": "stream",
     "text": [
      "Epoch: 2 | train_loss: 0.0834 | train_acc: 0.9662 | train_pr: 0.9672 | train_rc: 0.9662 |train_fscore: 0.9664 |\n"
     ]
    },
    {
     "name": "stderr",
     "output_type": "stream",
     "text": [
      "\n"
     ]
    },
    {
     "name": "stdout",
     "output_type": "stream",
     "text": [
      "test_loss: 0.0497, test_acc: 0.98%\n",
      "\n",
      "Fold 2\n",
      "-------\n"
     ]
    },
    {
     "name": "stderr",
     "output_type": "stream",
     "text": [
      " 50%|█████     | 1/2 [00:30<00:30, 30.38s/it]"
     ]
    },
    {
     "name": "stdout",
     "output_type": "stream",
     "text": [
      "Epoch: 1 | train_loss: 0.2873 | train_acc: 0.8409 | train_pr: 0.8620 | train_rc: 0.8409 |train_fscore: 0.8440 |\n"
     ]
    },
    {
     "name": "stderr",
     "output_type": "stream",
     "text": [
      "100%|██████████| 2/2 [01:00<00:00, 30.12s/it]"
     ]
    },
    {
     "name": "stdout",
     "output_type": "stream",
     "text": [
      "Epoch: 2 | train_loss: 0.0863 | train_acc: 0.9651 | train_pr: 0.9667 | train_rc: 0.9651 |train_fscore: 0.9654 |\n"
     ]
    },
    {
     "name": "stderr",
     "output_type": "stream",
     "text": [
      "\n"
     ]
    },
    {
     "name": "stdout",
     "output_type": "stream",
     "text": [
      "test_loss: 0.0575, test_acc: 0.98%\n",
      "\n",
      "K-FOLD CROSS VALIDATION RESULTS FOR 2 FOLDS\n",
      "-----------------------------------------\n",
      "Fold 1: 98.13 %\n",
      "Fold 2: 97.76 %\n",
      "Average: 97.94 %\n"
     ]
    }
   ],
   "source": [
    "import torch\n",
    "from torch.utils.data import DataLoader\n",
    "import torch.utils.data\n",
    "from torch.utils.data.sampler import SubsetRandomSampler\n",
    "from sklearn.model_selection import KFold\n",
    "from torch import optim\n",
    "import numpy as np\n",
    "from tqdm import tqdm\n",
    "\n",
    "# Define the number of folds and batch size\n",
    "K_FOLDS = 2 \n",
    "BATCH_SIZE = 32\n",
    "LEARNING_RATE = 0.001\n",
    "NUM_EPOCHS = 2\n",
    "\n",
    "# Loss function \n",
    "loss_fn = nn.CrossEntropyLoss()\n",
    "kf = KFold(n_splits=K_FOLDS, shuffle=True)\n",
    "\n",
    "# Loop through each fold\n",
    "results = {}\n",
    "\n",
    "train_indecies = np.arange(len(train_dataset))\n",
    "\n",
    "for fold, (train_idx, test_idx) in enumerate(kf.split(train_indecies)):\n",
    "    print(f\"Fold {fold + 1}\")\n",
    "    print(\"-------\")\n",
    "\n",
    "    # Define the data loaders for the current fold\n",
    "    train_loader = DataLoader(\n",
    "        dataset=train_dataset,\n",
    "        batch_size=BATCH_SIZE,\n",
    "        sampler=SubsetRandomSampler(train_idx.tolist()),\n",
    "    )\n",
    "    test_loader = DataLoader(\n",
    "        dataset=train_dataset,\n",
    "        batch_size=BATCH_SIZE,\n",
    "        sampler=SubsetRandomSampler(test_idx.tolist()),\n",
    "    )\n",
    "\n",
    "    # Initialize the model and optimizer\n",
    "    model = TinyVGG(\n",
    "        input_shape=3,\n",
    "        hidden_units=HIDDEN_UNITS,\n",
    "        output_shape=2\n",
    "    ).to(device)\n",
    "    optimizer = optim.Adam(model.parameters(), lr=LEARNING_RATE)\n",
    "\n",
    "    # Train the model on the current fold\n",
    "    for epoch in tqdm(range(NUM_EPOCHS)):\n",
    "        train_loss, train_acc, train_pr, train_rc, train_fscore = train(\n",
    "            model, \n",
    "            device, \n",
    "            train_loader, \n",
    "            loss_fn, \n",
    "            optimizer\n",
    "        )\n",
    "        print(\n",
    "            f\"Epoch: {epoch+1} | \"\n",
    "            f\"train_loss: {train_loss:.4f} | \"\n",
    "            f\"train_acc: {train_acc:.4f} | \"\n",
    "            f\"train_pr: {train_pr:.4f} | \"\n",
    "            f\"train_rc: {train_rc:.4f} |\"\n",
    "            f\"train_fscore: {train_fscore:.4f} | \"\n",
    "        )\n",
    "\n",
    "    # Evaluate the model on the test set\n",
    "    model.eval()\n",
    "\n",
    "    test_loss = 0\n",
    "    correct = 0\n",
    "\n",
    "    with torch.inference_mode():\n",
    "        for data, target in test_loader:\n",
    "            data, target = data.to(device), target.to(device)\n",
    "            output = model(data)\n",
    "\n",
    "            test_loss += loss_fn(output, target).item()\n",
    "\n",
    "            pred = output.argmax(dim=1)\n",
    "            correct += (pred == target).sum().item()\n",
    "\n",
    "    test_loss = test_loss / len(test_loader)\n",
    "    test_acc = correct / (len(test_loader) * BATCH_SIZE)\n",
    "\n",
    "    results[fold] = test_acc\n",
    "\n",
    "    # Print the results for the current fold\n",
    "    print(f\"test_loss: {test_loss:.4f}, test_acc: {test_acc:.2f}%\\n\")\n",
    "\n",
    "# Print fold results\n",
    "print(f'K-FOLD CROSS VALIDATION RESULTS FOR {K_FOLDS} FOLDS')\n",
    "print('-----------------------------------------')\n",
    "\n",
    "sum = 0.0\n",
    "\n",
    "for key, value in results.items():\n",
    "    print(f'Fold {key + 1}: {value * 100:.2f} %')\n",
    "    sum += value\n",
    "\n",
    "print(f'Average: {sum/len(results.items()) * 100:.2f} %')"
   ]
  },
  {
   "cell_type": "code",
   "execution_count": null,
   "metadata": {},
   "outputs": [],
   "source": []
  }
 ],
 "metadata": {
  "kernelspec": {
   "display_name": "env",
   "language": "python",
   "name": "python3"
  },
  "language_info": {
   "codemirror_mode": {
    "name": "ipython",
    "version": 3
   },
   "file_extension": ".py",
   "mimetype": "text/x-python",
   "name": "python",
   "nbconvert_exporter": "python",
   "pygments_lexer": "ipython3",
   "version": "3.9.17"
  },
  "orig_nbformat": 4
 },
 "nbformat": 4,
 "nbformat_minor": 2
}
